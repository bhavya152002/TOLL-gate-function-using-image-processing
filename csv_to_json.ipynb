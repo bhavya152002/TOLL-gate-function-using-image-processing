import csv
import json
 
def csv_to_json(csv_file_path, json_file_path):

    data_dict = {}

    with open(csv_file_path, encoding = 'utf-8') as csv_file_handler:
        csv_reader = csv.DictReader(csv_file_handler)
 

 
        for rows in csv_reader:
 
            #assuming a column named 'No'
            #to be the primary key
            key = rows['Serial Number']
            data_dict[key] = rows
 
    #open a json file handler and use json.dumps
    #method to dump the data
    #Step 3
    with open(json_file_path, 'w', encoding = 'utf-8') as json_file_handler:
        #Step 4
        json_file_handler.write(json.dumps(data_dict, indent = 4))
csv_file_path = input('Enter the absolute path of the CSV file: ')
json_file_path = input('Enter the absolute path of the JSON file: ')
 
csv_to_json(csv_file_path, json_file_path)